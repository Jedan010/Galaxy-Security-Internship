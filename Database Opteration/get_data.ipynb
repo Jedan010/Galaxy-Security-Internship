{
 "cells": [
  {
   "cell_type": "code",
   "execution_count": 1,
   "metadata": {
    "collapsed": true
   },
   "outputs": [],
   "source": [
    "from __future__ import print_function\n",
    "\n",
    "import numpy as np\n",
    "import pandas as pd\n",
    "import matplotlib.pyplot as plt\n",
    "from datetime import datetime"
   ]
  },
  {
   "cell_type": "code",
   "execution_count": 2,
   "metadata": {},
   "outputs": [
    {
     "name": "stdout",
     "output_type": "stream",
     "text": [
      "Welcome to use Wind Quant API for Python (WindPy)!\n",
      "\n",
      "COPYRIGHT (C) 2017 WIND INFORMATION CO., LTD. ALL RIGHTS RESERVED.\n",
      "IN NO CIRCUMSTANCE SHALL WIND BE RESPONSIBLE FOR ANY DAMAGES OR LOSSES CAUSED BY USING WIND QUANT API FOR Python.\n"
     ]
    },
    {
     "data": {
      "text/plain": [
       ".ErrorCode=0\n",
       ".Data=[OK!]"
      ]
     },
     "execution_count": 2,
     "metadata": {},
     "output_type": "execute_result"
    }
   ],
   "source": [
    "from WindPy import w\n",
    "w.start()"
   ]
  },
  {
   "cell_type": "markdown",
   "metadata": {},
   "source": [
    "## Mysql 封装"
   ]
  },
  {
   "cell_type": "code",
   "execution_count": 3,
   "metadata": {
    "collapsed": true
   },
   "outputs": [],
   "source": [
    "from sqlalchemy import create_engine\n",
    "import MySQLdb\n",
    "\n",
    "class Mysql_helper():\n",
    "\n",
    "    def __init__(self, database='option'):\n",
    "        self.engine = create_engine('mysql://root:@localhost/{}'.format(database))\n",
    "        self.db = MySQLdb.connect('localhost', 'root', '', database)\n",
    "        self.cur = self.db.cursor()\n",
    "        \n",
    "    def insert(self, data, table_name,if_exists='append'):\n",
    "        data.to_sql(table_name, self.engine, if_exists=if_exists, index=False, chunksize=1000)\n",
    "    \n",
    "    def read(self, table_name):\n",
    "        data = pd.read_sql(table_name, self.engine)\n",
    "        return data\n",
    "    \n",
    "    def query(self, sql_query):\n",
    "        data = pd.read_sql_query(sql_query, self.engine)\n",
    "        return data\n",
    "    \n",
    "    \n",
    "    def sql(self, sql):        \n",
    "        try:\n",
    "            self.cursor.execute(sql)\n",
    "            self.db.commit()\n",
    "        except:\n",
    "            # Rollback in case there is any error\n",
    "            self.db.rollback()"
   ]
  },
  {
   "cell_type": "markdown",
   "metadata": {},
   "source": [
    "## Mongodb 封装"
   ]
  },
  {
   "cell_type": "code",
   "execution_count": 4,
   "metadata": {
    "collapsed": true
   },
   "outputs": [],
   "source": [
    "from pymongo import MongoClient\n",
    "\n",
    "class Mongo_helper():    \n",
    "    def __init__(self, database='option', url='localhost:27017', table=None):\n",
    "        self.client = MongoClient('mongodb://{}'.format(url))\n",
    "        self.database = self.client[database]\n",
    "        if table is not None:\n",
    "            self.table = self.client[database][table] \n",
    "        else:\n",
    "            self.table = self.database[self.database.collection_names()[0]]\n",
    "        \n",
    "    def insert(self, data):\n",
    "        if type(data) == pd.core.frame.DataFrame:\n",
    "            self.table.insert_many(data.to_dict('records'))\n",
    "        else:\n",
    "            self.table.insert_many(data)\n",
    "    \n",
    "    def read_df(self,):\n",
    "        df = pd.DataFrame(list(self.table.find()))\n",
    "        return df.drop('_id', axis=1) if df.shape[0]!=0 else None\n",
    "    \n",
    "    def query(self, conditions):\n",
    "        df = pd.DataFrame(list(self.table.find(eval(conditions))))\n",
    "        return df.drop('_id', axis=1) if df.shape[0]!=0 else None\n",
    "    \n",
    "    def update(self, conditions, updata):\n",
    "        self.table.update_many(eval(conditions),{\"$set\":eval(updata)})\n",
    "    \n",
    "    def delete(self, conditions):\n",
    "        self.table.delete_many(eval(conditions))\n",
    "        "
   ]
  },
  {
   "cell_type": "markdown",
   "metadata": {},
   "source": [
    "\n",
    "## 获得期权数据函数"
   ]
  },
  {
   "cell_type": "markdown",
   "metadata": {
    "collapsed": true
   },
   "source": [
    "参数字段：期权代码，日期，开始日期，结束日期，行权价，类型，隐含波动率，开盘价,收盘价，最高价，最低价，交易量，持仓量"
   ]
  },
  {
   "cell_type": "code",
   "execution_count": 5,
   "metadata": {
    "collapsed": true
   },
   "outputs": [],
   "source": [
    "def get_volatility(code_dir):\n",
    "    \n",
    "    \"\"\"\n",
    "    根据每个期权合约代码得到期权数据\n",
    "    输入：code - 期权合约代码\n",
    "    输出：data - dataframe 形式存储\n",
    "    \n",
    "    参考字段：\n",
    "    'TRADE_CODE', 'US_NAME', 'LASTRADEDAY_S', 'STARTDATE', 'EXE_ENDDATE','EXE_PRICE', 'EXE_MODE',\n",
    "    'US_IMPLIEDVOL', 'PTMTRADEDAY', 'OPEN', 'HIGH','LOW', 'CLOSE', 'VOLUME', 'OI', 'US_CLOSE'\n",
    "\n",
    "    期权代码，标的代码，最近交易日，合约起始日，合约终止日，期权价格， 期权类型，\n",
    "    隐含波动率，到期时间，开盘价，最高价，最低价，收盘价，成交量，持仓量，标的价格\n",
    "    \"\"\"\n",
    "    from WindPy import w    \n",
    "    w.start()\n",
    "    \n",
    "    date_range = w.wsd(code_dir, \"startdate, exe_enddate,\", \"2015-03-23\", \"2015-03-23\",)\n",
    "    fields = \"trade_code,us_name,lastradeday_s,startdate,exe_enddate,exe_price,exe_mode,us_impliedvol,ptmtradeday,open,high,low,close,volume,oi, us_close\"\n",
    "    data  = w.wsd(code_dir, fields, date_range.Data[0][0], date_range.Data[1][0])\n",
    "    df = pd.DataFrame(data.Data, index=data.Fields).T\n",
    "    df['EXE_MODE'] = df['EXE_MODE'].map({'认购': 'call', '认沽': 'put'})\n",
    "    df.dropna(inplace=True)\n",
    "    \n",
    "    return df"
   ]
  },
  {
   "cell_type": "markdown",
   "metadata": {},
   "source": [
    "## 下载所有数据并保存到数据库"
   ]
  },
  {
   "cell_type": "code",
   "execution_count": 6,
   "metadata": {
    "collapsed": true
   },
   "outputs": [],
   "source": [
    "def save_all_volatility_to_mongo(code_list):\n",
    "    mgh = Mongo_helper(database='option_data', table='ETF50')\n",
    "    for code_dir in code_list:     \n",
    "        try:            \n",
    "            data = get_volatility(code_dir)\n",
    "            mgh.insert(data.to_dict('records'))\n",
    "            print('Succeed download: ', code_dir)\n",
    "        except:\n",
    "            print('Error: ', code_dir)"
   ]
  },
  {
   "cell_type": "code",
   "execution_count": 7,
   "metadata": {
    "collapsed": true
   },
   "outputs": [],
   "source": [
    "def update_volatility_to_mongo(code_list):\n",
    "    mgh = Mongo_helper(database='option_data', table='ETF50')\n",
    "    for code_dir in code_list:     \n",
    "        try:            \n",
    "            data = get_volatility(code_dir)\n",
    "            [mgh.table.update_many({'LASTRADEDAY_S': data['LASTRADEDAY_S'][i], \n",
    "                                    'EXE_ENDDATE': data['EXE_ENDDATE'][i]},\n",
    "                                   {\"$set\":data.iloc[i].to_dict()}, upsert=True) for i in range(len(data))]\n",
    "            print('Succeed download: ', code_dir)\n",
    "        except:\n",
    "            print('Error: ', code_dir)"
   ]
  },
  {
   "cell_type": "code",
   "execution_count": 8,
   "metadata": {},
   "outputs": [],
   "source": [
    "## update data everyday\n",
    "def update_mongo_database(database):\n",
    "    mongo = Mongo_helper(database=database)\n",
    "    min_code = pd.DataFrame(list(mongo.table.find({'EXE_ENDDATE':{'$gte':pd.datetime.today()}}, {'TRADE_CODE':''})))['TRADE_CODE'].min()\n",
    "\n",
    "    code = int(min_code)\n",
    "    while True:    \n",
    "        df = get_volatility(str(code) + '.SH')\n",
    "        if df.empty:\n",
    "            break\n",
    "        else:\n",
    "            mongo.table.delete_many({'TRADE_CODE': str(code)})\n",
    "            mongo.insert(df)\n",
    "            print('Succeed Update:', code)\n",
    "            code += 1 "
   ]
  }
 ],
 "metadata": {
  "kernelspec": {
   "display_name": "Python [conda root]",
   "language": "python",
   "name": "conda-root-py"
  },
  "language_info": {
   "codemirror_mode": {
    "name": "ipython",
    "version": 3
   },
   "file_extension": ".py",
   "mimetype": "text/x-python",
   "name": "python",
   "nbconvert_exporter": "python",
   "pygments_lexer": "ipython3",
   "version": "3.6.2"
  },
  "toc": {
   "nav_menu": {},
   "number_sections": true,
   "sideBar": true,
   "skip_h1_title": false,
   "toc_cell": false,
   "toc_position": {},
   "toc_section_display": "block",
   "toc_window_display": false
  },
  "varInspector": {
   "cols": {
    "lenName": 16,
    "lenType": 16,
    "lenVar": 40
   },
   "kernels_config": {
    "python": {
     "delete_cmd_postfix": "",
     "delete_cmd_prefix": "del ",
     "library": "var_list.py",
     "varRefreshCmd": "print(var_dic_list())"
    },
    "r": {
     "delete_cmd_postfix": ") ",
     "delete_cmd_prefix": "rm(",
     "library": "var_list.r",
     "varRefreshCmd": "cat(var_dic_list()) "
    }
   },
   "types_to_exclude": [
    "module",
    "function",
    "builtin_function_or_method",
    "instance",
    "_Feature"
   ],
   "window_display": false
  }
 },
 "nbformat": 4,
 "nbformat_minor": 1
}
