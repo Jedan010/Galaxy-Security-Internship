{
 "cells": [
  {
   "cell_type": "markdown",
   "metadata": {},
   "source": [
    "http://www.runoob.com/python/python-mysql.html"
   ]
  },
  {
   "cell_type": "markdown",
   "metadata": {},
   "source": [
    "# MySQLdb 基本操作"
   ]
  },
  {
   "cell_type": "markdown",
   "metadata": {},
   "source": [
    "## 数据库连接"
   ]
  },
  {
   "cell_type": "code",
   "execution_count": 1,
   "metadata": {},
   "outputs": [
    {
     "name": "stdout",
     "output_type": "stream",
     "text": [
      "Database version : 10.1.29-MariaDB \n"
     ]
    }
   ],
   "source": [
    "import MySQLdb\n",
    "\n",
    "# 打开数据库连接\n",
    "db = MySQLdb.connect(\"localhost\",\"root\",\"\",\"option\" )\n",
    "\n",
    "# 使用cursor()方法获取操作游标 \n",
    "cursor = db.cursor()\n",
    "\n",
    "# 使用execute方法执行SQL语句\n",
    "cursor.execute(\"SELECT VERSION()\")\n",
    "\n",
    "# 使用 fetchone() 方法获取一条数据\n",
    "data = cursor.fetchone()\n",
    "\n",
    "print \"Database version : %s \" % data\n",
    "\n",
    "# 关闭数据库连接\n",
    "db.close()"
   ]
  },
  {
   "cell_type": "markdown",
   "metadata": {},
   "source": [
    "## 创建数据库表"
   ]
  },
  {
   "cell_type": "code",
   "execution_count": 2,
   "metadata": {},
   "outputs": [
    {
     "name": "stderr",
     "output_type": "stream",
     "text": [
      "C:\\Anaconda2\\lib\\site-packages\\ipykernel\\__main__.py:8: Warning: Unknown table 'option.employee'\n"
     ]
    }
   ],
   "source": [
    "import MySQLdb\n",
    "\n",
    "\n",
    "db = MySQLdb.connect('localhost', 'root', '', 'option')\n",
    "cur = db.cursor()\n",
    "\n",
    "## 如果存在则删除原有数据表\n",
    "cur.execute('Drop table if exists employee')\n",
    "\n",
    "## 创建数据表SQL语句\n",
    "sql = \"\"\"\n",
    "        create table employee(\n",
    "        first_name char(20) not null,\n",
    "        last_name char(20),\n",
    "        age int,\n",
    "        sex char(1),\n",
    "        income float)\n",
    "        \"\"\"\n",
    "\n",
    "cur.execute(sql)\n",
    "db.commit()\n",
    "db.close()"
   ]
  },
  {
   "cell_type": "markdown",
   "metadata": {},
   "source": [
    "## 数据库插入操作"
   ]
  },
  {
   "cell_type": "code",
   "execution_count": 3,
   "metadata": {
    "collapsed": true
   },
   "outputs": [],
   "source": [
    "import MySQLdb\n",
    "db = MySQLdb.connect('localhost', 'root', '', 'option')\n",
    "cur = db.cursor()\n",
    "\n",
    "## SQL 插入语句\n",
    "sql = \"\"\"INSERT INTO EMPLOYEE(FIRST_NAME,\n",
    "         LAST_NAME, AGE, SEX, INCOME)\n",
    "         VALUES ('Mac', 'Mohan', 20, 'M', 2000)\"\"\"\n",
    "\n",
    "cur.execute(sql)\n",
    "db.commit()\n",
    "\n",
    "db.close()"
   ]
  },
  {
   "cell_type": "markdown",
   "metadata": {},
   "source": [
    "## 数据库查询操作"
   ]
  },
  {
   "cell_type": "code",
   "execution_count": 26,
   "metadata": {
    "collapsed": true
   },
   "outputs": [],
   "source": [
    "import MySQLdb\n",
    "db = MySQLdb.connect('localhost', 'root', '', 'option')\n",
    "cur = db.cursor()"
   ]
  },
  {
   "cell_type": "code",
   "execution_count": 5,
   "metadata": {},
   "outputs": [
    {
     "data": {
      "text/plain": [
       "(('Mac', 'Mohan', 20L, 'M', 2000.0),)"
      ]
     },
     "execution_count": 5,
     "metadata": {},
     "output_type": "execute_result"
    }
   ],
   "source": [
    "sql_find = \"\"\"select * from employee\"\"\"\n",
    "cur.execute(sql_find)\n",
    "cur.fetchall()"
   ]
  },
  {
   "cell_type": "markdown",
   "metadata": {},
   "source": [
    "## 数据库更新操作"
   ]
  },
  {
   "cell_type": "code",
   "execution_count": 6,
   "metadata": {
    "collapsed": true
   },
   "outputs": [],
   "source": [
    "sql = \"\"\"update employee set age = age +1 where sex = 'M'\"\"\""
   ]
  },
  {
   "cell_type": "code",
   "execution_count": 7,
   "metadata": {},
   "outputs": [
    {
     "data": {
      "text/plain": [
       "1L"
      ]
     },
     "execution_count": 7,
     "metadata": {},
     "output_type": "execute_result"
    }
   ],
   "source": [
    "cur.execute(sql)"
   ]
  },
  {
   "cell_type": "code",
   "execution_count": 8,
   "metadata": {
    "collapsed": true
   },
   "outputs": [],
   "source": [
    "db.commit()"
   ]
  },
  {
   "cell_type": "code",
   "execution_count": 9,
   "metadata": {},
   "outputs": [
    {
     "data": {
      "text/plain": [
       "(('Mac', 'Mohan', 21L, 'M', 2000.0),)"
      ]
     },
     "execution_count": 9,
     "metadata": {},
     "output_type": "execute_result"
    }
   ],
   "source": [
    "cur.execute(sql_find)\n",
    "cur.fetchall()"
   ]
  },
  {
   "cell_type": "markdown",
   "metadata": {},
   "source": [
    "## 删除操作"
   ]
  },
  {
   "cell_type": "code",
   "execution_count": 10,
   "metadata": {
    "collapsed": true
   },
   "outputs": [],
   "source": [
    "sql_delete = \"\"\"delete from employee where age >=20\"\"\"\n",
    "cur.execute(sql_delete)\n",
    "db.commit()"
   ]
  },
  {
   "cell_type": "code",
   "execution_count": 11,
   "metadata": {},
   "outputs": [
    {
     "data": {
      "text/plain": [
       "()"
      ]
     },
     "execution_count": 11,
     "metadata": {},
     "output_type": "execute_result"
    }
   ],
   "source": [
    "cur.execute(sql_find)\n",
    "cur.fetchall()"
   ]
  },
  {
   "cell_type": "code",
   "execution_count": 12,
   "metadata": {
    "collapsed": true
   },
   "outputs": [],
   "source": [
    "db.close()"
   ]
  },
  {
   "cell_type": "code",
   "execution_count": null,
   "metadata": {
    "collapsed": true
   },
   "outputs": [],
   "source": []
  },
  {
   "cell_type": "markdown",
   "metadata": {},
   "source": [
    "# panda 与 Mysql"
   ]
  },
  {
   "cell_type": "markdown",
   "metadata": {},
   "source": [
    "## 写入数据"
   ]
  },
  {
   "cell_type": "code",
   "execution_count": 13,
   "metadata": {
    "collapsed": true
   },
   "outputs": [],
   "source": [
    "import pandas as pd\n",
    "import numpy as np\n",
    "\n",
    "from sqlalchemy import create_engine\n",
    "\n",
    "engine = create_engine('mysql://root:@localhost/option')\n",
    "\n",
    "data = pd.read_csv('vol_17_to_18.csv')\n",
    "data.head()\n",
    "\n",
    "data.to_sql('test', engine, if_exists='replace', index=False)"
   ]
  },
  {
   "cell_type": "markdown",
   "metadata": {},
   "source": [
    "## 读入数据"
   ]
  },
  {
   "cell_type": "code",
   "execution_count": 14,
   "metadata": {
    "collapsed": true
   },
   "outputs": [],
   "source": [
    "from sqlalchemy import create_engine\n",
    "engine = create_engine('mysql://root:@localhost/option')"
   ]
  },
  {
   "cell_type": "code",
   "execution_count": 15,
   "metadata": {},
   "outputs": [
    {
     "data": {
      "text/html": [
       "<div>\n",
       "<table border=\"1\" class=\"dataframe\">\n",
       "  <thead>\n",
       "    <tr style=\"text-align: right;\">\n",
       "      <th></th>\n",
       "      <th>code</th>\n",
       "      <th>date</th>\n",
       "      <th>end_date</th>\n",
       "      <th>start_date</th>\n",
       "      <th>strike</th>\n",
       "      <th>type</th>\n",
       "      <th>vol</th>\n",
       "    </tr>\n",
       "  </thead>\n",
       "  <tbody>\n",
       "    <tr>\n",
       "      <th>0</th>\n",
       "      <td>10000017.SH</td>\n",
       "      <td>2015-02-06 00:00:00.005</td>\n",
       "      <td>2015-04-22 00:00:00.005</td>\n",
       "      <td>2015-02-09 00:00:00.005</td>\n",
       "      <td>2.25</td>\n",
       "      <td>认沽</td>\n",
       "      <td>NaN</td>\n",
       "    </tr>\n",
       "    <tr>\n",
       "      <th>1</th>\n",
       "      <td>10000017.SH</td>\n",
       "      <td>2015-02-09 00:00:00.005</td>\n",
       "      <td>2015-04-22 00:00:00.005</td>\n",
       "      <td>2015-02-09 00:00:00.005</td>\n",
       "      <td>2.25</td>\n",
       "      <td>认沽</td>\n",
       "      <td>0.380640</td>\n",
       "    </tr>\n",
       "    <tr>\n",
       "      <th>2</th>\n",
       "      <td>10000017.SH</td>\n",
       "      <td>2015-02-10 00:00:00.005</td>\n",
       "      <td>2015-04-22 00:00:00.005</td>\n",
       "      <td>2015-02-09 00:00:00.005</td>\n",
       "      <td>2.25</td>\n",
       "      <td>认沽</td>\n",
       "      <td>0.344061</td>\n",
       "    </tr>\n",
       "    <tr>\n",
       "      <th>3</th>\n",
       "      <td>10000017.SH</td>\n",
       "      <td>2015-02-11 00:00:00.005</td>\n",
       "      <td>2015-04-22 00:00:00.005</td>\n",
       "      <td>2015-02-09 00:00:00.005</td>\n",
       "      <td>2.25</td>\n",
       "      <td>认沽</td>\n",
       "      <td>0.292507</td>\n",
       "    </tr>\n",
       "    <tr>\n",
       "      <th>4</th>\n",
       "      <td>10000017.SH</td>\n",
       "      <td>2015-02-12 00:00:00.005</td>\n",
       "      <td>2015-04-22 00:00:00.005</td>\n",
       "      <td>2015-02-09 00:00:00.005</td>\n",
       "      <td>2.25</td>\n",
       "      <td>认沽</td>\n",
       "      <td>0.271417</td>\n",
       "    </tr>\n",
       "  </tbody>\n",
       "</table>\n",
       "</div>"
      ],
      "text/plain": [
       "          code                     date                 end_date  \\\n",
       "0  10000017.SH  2015-02-06 00:00:00.005  2015-04-22 00:00:00.005   \n",
       "1  10000017.SH  2015-02-09 00:00:00.005  2015-04-22 00:00:00.005   \n",
       "2  10000017.SH  2015-02-10 00:00:00.005  2015-04-22 00:00:00.005   \n",
       "3  10000017.SH  2015-02-11 00:00:00.005  2015-04-22 00:00:00.005   \n",
       "4  10000017.SH  2015-02-12 00:00:00.005  2015-04-22 00:00:00.005   \n",
       "\n",
       "                start_date  strike type       vol  \n",
       "0  2015-02-09 00:00:00.005    2.25   认沽       NaN  \n",
       "1  2015-02-09 00:00:00.005    2.25   认沽  0.380640  \n",
       "2  2015-02-09 00:00:00.005    2.25   认沽  0.344061  \n",
       "3  2015-02-09 00:00:00.005    2.25   认沽  0.292507  \n",
       "4  2015-02-09 00:00:00.005    2.25   认沽  0.271417  "
      ]
     },
     "execution_count": 15,
     "metadata": {},
     "output_type": "execute_result"
    }
   ],
   "source": [
    "data = pd.read_sql_table('test', engine)\n",
    "data.head()"
   ]
  },
  {
   "cell_type": "code",
   "execution_count": 16,
   "metadata": {},
   "outputs": [
    {
     "data": {
      "text/html": [
       "<div>\n",
       "<table border=\"1\" class=\"dataframe\">\n",
       "  <thead>\n",
       "    <tr style=\"text-align: right;\">\n",
       "      <th></th>\n",
       "      <th>code</th>\n",
       "      <th>date</th>\n",
       "      <th>end_date</th>\n",
       "      <th>start_date</th>\n",
       "      <th>strike</th>\n",
       "      <th>type</th>\n",
       "      <th>vol</th>\n",
       "    </tr>\n",
       "  </thead>\n",
       "  <tbody>\n",
       "    <tr>\n",
       "      <th>0</th>\n",
       "      <td>10000017.SH</td>\n",
       "      <td>2015-02-06 00:00:00.005</td>\n",
       "      <td>2015-04-22 00:00:00.005</td>\n",
       "      <td>2015-02-09 00:00:00.005</td>\n",
       "      <td>2.25</td>\n",
       "      <td>认沽</td>\n",
       "      <td>NaN</td>\n",
       "    </tr>\n",
       "    <tr>\n",
       "      <th>1</th>\n",
       "      <td>10000017.SH</td>\n",
       "      <td>2015-02-09 00:00:00.005</td>\n",
       "      <td>2015-04-22 00:00:00.005</td>\n",
       "      <td>2015-02-09 00:00:00.005</td>\n",
       "      <td>2.25</td>\n",
       "      <td>认沽</td>\n",
       "      <td>0.380640</td>\n",
       "    </tr>\n",
       "    <tr>\n",
       "      <th>2</th>\n",
       "      <td>10000017.SH</td>\n",
       "      <td>2015-02-10 00:00:00.005</td>\n",
       "      <td>2015-04-22 00:00:00.005</td>\n",
       "      <td>2015-02-09 00:00:00.005</td>\n",
       "      <td>2.25</td>\n",
       "      <td>认沽</td>\n",
       "      <td>0.344061</td>\n",
       "    </tr>\n",
       "    <tr>\n",
       "      <th>3</th>\n",
       "      <td>10000017.SH</td>\n",
       "      <td>2015-02-11 00:00:00.005</td>\n",
       "      <td>2015-04-22 00:00:00.005</td>\n",
       "      <td>2015-02-09 00:00:00.005</td>\n",
       "      <td>2.25</td>\n",
       "      <td>认沽</td>\n",
       "      <td>0.292507</td>\n",
       "    </tr>\n",
       "    <tr>\n",
       "      <th>4</th>\n",
       "      <td>10000017.SH</td>\n",
       "      <td>2015-02-12 00:00:00.005</td>\n",
       "      <td>2015-04-22 00:00:00.005</td>\n",
       "      <td>2015-02-09 00:00:00.005</td>\n",
       "      <td>2.25</td>\n",
       "      <td>认沽</td>\n",
       "      <td>0.271417</td>\n",
       "    </tr>\n",
       "  </tbody>\n",
       "</table>\n",
       "</div>"
      ],
      "text/plain": [
       "          code                     date                 end_date  \\\n",
       "0  10000017.SH  2015-02-06 00:00:00.005  2015-04-22 00:00:00.005   \n",
       "1  10000017.SH  2015-02-09 00:00:00.005  2015-04-22 00:00:00.005   \n",
       "2  10000017.SH  2015-02-10 00:00:00.005  2015-04-22 00:00:00.005   \n",
       "3  10000017.SH  2015-02-11 00:00:00.005  2015-04-22 00:00:00.005   \n",
       "4  10000017.SH  2015-02-12 00:00:00.005  2015-04-22 00:00:00.005   \n",
       "\n",
       "                start_date  strike type       vol  \n",
       "0  2015-02-09 00:00:00.005    2.25   认沽       NaN  \n",
       "1  2015-02-09 00:00:00.005    2.25   认沽  0.380640  \n",
       "2  2015-02-09 00:00:00.005    2.25   认沽  0.344061  \n",
       "3  2015-02-09 00:00:00.005    2.25   认沽  0.292507  \n",
       "4  2015-02-09 00:00:00.005    2.25   认沽  0.271417  "
      ]
     },
     "execution_count": 16,
     "metadata": {},
     "output_type": "execute_result"
    }
   ],
   "source": [
    "## 或者使用sql语句\n",
    "import pandas as pd\n",
    "import MySQLdb\n",
    "mysql_cn= MySQLdb.connect(host='localhost',user='root', passwd='', db='option')\n",
    "df = pd.read_sql('select * from test;', con=mysql_cn)    \n",
    "mysql_cn.close()\n",
    "df.head()\n"
   ]
  },
  {
   "cell_type": "markdown",
   "metadata": {},
   "source": [
    "## 更新数据"
   ]
  },
  {
   "cell_type": "code",
   "execution_count": 17,
   "metadata": {
    "collapsed": true
   },
   "outputs": [],
   "source": [
    "## to_sql 的时候 if_exists 设置为 'replace\n",
    "engine = engine = create_engine('mysql://root:@localhost/option')\n",
    "data.to_sql('test', engine, if_exists='replace')"
   ]
  },
  {
   "cell_type": "markdown",
   "metadata": {},
   "source": [
    "## 查询数据"
   ]
  },
  {
   "cell_type": "code",
   "execution_count": 21,
   "metadata": {},
   "outputs": [
    {
     "data": {
      "text/html": [
       "<div>\n",
       "<table border=\"1\" class=\"dataframe\">\n",
       "  <thead>\n",
       "    <tr style=\"text-align: right;\">\n",
       "      <th></th>\n",
       "      <th>index</th>\n",
       "      <th>code</th>\n",
       "      <th>date</th>\n",
       "      <th>end_date</th>\n",
       "      <th>start_date</th>\n",
       "      <th>strike</th>\n",
       "      <th>type</th>\n",
       "      <th>vol</th>\n",
       "    </tr>\n",
       "  </thead>\n",
       "  <tbody>\n",
       "    <tr>\n",
       "      <th>0</th>\n",
       "      <td>0</td>\n",
       "      <td>10000017.SH</td>\n",
       "      <td>2015-02-06 00:00:00.005</td>\n",
       "      <td>2015-04-22 00:00:00.005</td>\n",
       "      <td>2015-02-09 00:00:00.005</td>\n",
       "      <td>2.25</td>\n",
       "      <td>认沽</td>\n",
       "      <td>NaN</td>\n",
       "    </tr>\n",
       "    <tr>\n",
       "      <th>1</th>\n",
       "      <td>1</td>\n",
       "      <td>10000017.SH</td>\n",
       "      <td>2015-02-09 00:00:00.005</td>\n",
       "      <td>2015-04-22 00:00:00.005</td>\n",
       "      <td>2015-02-09 00:00:00.005</td>\n",
       "      <td>2.25</td>\n",
       "      <td>认沽</td>\n",
       "      <td>0.380640</td>\n",
       "    </tr>\n",
       "    <tr>\n",
       "      <th>2</th>\n",
       "      <td>2</td>\n",
       "      <td>10000017.SH</td>\n",
       "      <td>2015-02-10 00:00:00.005</td>\n",
       "      <td>2015-04-22 00:00:00.005</td>\n",
       "      <td>2015-02-09 00:00:00.005</td>\n",
       "      <td>2.25</td>\n",
       "      <td>认沽</td>\n",
       "      <td>0.344061</td>\n",
       "    </tr>\n",
       "    <tr>\n",
       "      <th>3</th>\n",
       "      <td>3</td>\n",
       "      <td>10000017.SH</td>\n",
       "      <td>2015-02-11 00:00:00.005</td>\n",
       "      <td>2015-04-22 00:00:00.005</td>\n",
       "      <td>2015-02-09 00:00:00.005</td>\n",
       "      <td>2.25</td>\n",
       "      <td>认沽</td>\n",
       "      <td>0.292507</td>\n",
       "    </tr>\n",
       "    <tr>\n",
       "      <th>4</th>\n",
       "      <td>4</td>\n",
       "      <td>10000017.SH</td>\n",
       "      <td>2015-02-12 00:00:00.005</td>\n",
       "      <td>2015-04-22 00:00:00.005</td>\n",
       "      <td>2015-02-09 00:00:00.005</td>\n",
       "      <td>2.25</td>\n",
       "      <td>认沽</td>\n",
       "      <td>0.271417</td>\n",
       "    </tr>\n",
       "  </tbody>\n",
       "</table>\n",
       "</div>"
      ],
      "text/plain": [
       "   index         code                     date                 end_date  \\\n",
       "0      0  10000017.SH  2015-02-06 00:00:00.005  2015-04-22 00:00:00.005   \n",
       "1      1  10000017.SH  2015-02-09 00:00:00.005  2015-04-22 00:00:00.005   \n",
       "2      2  10000017.SH  2015-02-10 00:00:00.005  2015-04-22 00:00:00.005   \n",
       "3      3  10000017.SH  2015-02-11 00:00:00.005  2015-04-22 00:00:00.005   \n",
       "4      4  10000017.SH  2015-02-12 00:00:00.005  2015-04-22 00:00:00.005   \n",
       "\n",
       "                start_date  strike type       vol  \n",
       "0  2015-02-09 00:00:00.005    2.25   认沽       NaN  \n",
       "1  2015-02-09 00:00:00.005    2.25   认沽  0.380640  \n",
       "2  2015-02-09 00:00:00.005    2.25   认沽  0.344061  \n",
       "3  2015-02-09 00:00:00.005    2.25   认沽  0.292507  \n",
       "4  2015-02-09 00:00:00.005    2.25   认沽  0.271417  "
      ]
     },
     "execution_count": 21,
     "metadata": {},
     "output_type": "execute_result"
    }
   ],
   "source": [
    "pd.read_sql_query('SELECT * FROM test', engine).head()"
   ]
  },
  {
   "cell_type": "markdown",
   "metadata": {},
   "source": [
    "## Reading Tables"
   ]
  },
  {
   "cell_type": "markdown",
   "metadata": {},
   "source": [
    "您可以明确强制将列解析为日期："
   ]
  },
  {
   "cell_type": "code",
   "execution_count": 25,
   "metadata": {},
   "outputs": [
    {
     "data": {
      "text/plain": [
       "index           int64\n",
       "code           object\n",
       "date           object\n",
       "end_date       object\n",
       "start_date     object\n",
       "strike        float64\n",
       "type           object\n",
       "vol           float64\n",
       "dtype: object"
      ]
     },
     "execution_count": 25,
     "metadata": {},
     "output_type": "execute_result"
    }
   ],
   "source": [
    "pd.read_sql_table('test', engine).dtypes"
   ]
  },
  {
   "cell_type": "code",
   "execution_count": 24,
   "metadata": {},
   "outputs": [
    {
     "data": {
      "text/plain": [
       "index                  int64\n",
       "code                  object\n",
       "date          datetime64[ns]\n",
       "end_date      datetime64[ns]\n",
       "start_date    datetime64[ns]\n",
       "strike               float64\n",
       "type                  object\n",
       "vol                  float64\n",
       "dtype: object"
      ]
     },
     "execution_count": 24,
     "metadata": {},
     "output_type": "execute_result"
    }
   ],
   "source": [
    "pd.read_sql_table('test', engine, parse_dates=['date', 'start_date', 'end_date']).dtypes"
   ]
  },
  {
   "cell_type": "markdown",
   "metadata": {
    "collapsed": true
   },
   "source": [
    "# Mysql 封装"
   ]
  },
  {
   "cell_type": "code",
   "execution_count": 2,
   "metadata": {
    "collapsed": true
   },
   "outputs": [],
   "source": [
    "import pandas as pd"
   ]
  },
  {
   "cell_type": "code",
   "execution_count": 12,
   "metadata": {
    "collapsed": true
   },
   "outputs": [],
   "source": [
    "from sqlalchemy import create_engine\n",
    "import MySQLdb\n",
    "\n",
    "class Mysql_helper():\n",
    "\n",
    "    def __init__(self, url='localhost',password='', database='option'):\n",
    "        self.engine = create_engine('mysql://{}:{}@localhost/{}'.format(url,password, database))\n",
    "        self.db = MySQLdb.connect('localhost', 'root', '', database) \n",
    "        self.cur = self.db.cursor()\n",
    "        \n",
    "    def insert(self, data, table_name,):\n",
    "        data.to_sql(table_name, self.engine, if_exists='append', index=False, chunksize=1000)\n",
    "    \n",
    "    def read(self, table_name):\n",
    "        data = pd.read_sql(table_name, self.engine)\n",
    "        return data\n",
    "    \n",
    "    def query(self, sql_query):\n",
    "        data = pd.read_sql_query(sql_query, self.engine)\n",
    "        return data\n",
    "    \n",
    "    \n",
    "    def sql(self, sql):        \n",
    "        try:\n",
    "            self.cursor.execute(sql)\n",
    "            self.db.commit()\n",
    "        except:\n",
    "            # Rollback in case there is any error\n",
    "            self.db.rollback()"
   ]
  },
  {
   "cell_type": "markdown",
   "metadata": {},
   "source": [
    "# Mongodb 封装"
   ]
  },
  {
   "cell_type": "code",
   "execution_count": 9,
   "metadata": {
    "collapsed": true
   },
   "outputs": [],
   "source": [
    "from pymongo import MongoClient\n",
    "\n",
    "class Mongo_helper():    \n",
    "    def __init__(self, database='option', url='localhost:27017', table=None):\n",
    "        self.client = MongoClient('mongodb://{}'.format(url))\n",
    "        self.database = self.client[database]\n",
    "        if table is not None:\n",
    "            self.table = self.client[database][table] \n",
    "        else:\n",
    "            self.table = self.database[self.database.collection_names()[0]]\n",
    "        \n",
    "    def insert(self, data):\n",
    "        if type(data) == pd.core.frame.DataFrame:\n",
    "            self.table.insert_many(data.to_dict('records'))\n",
    "        else:\n",
    "            self.table.insert_many(data)\n",
    "    \n",
    "    def read_df(self,):\n",
    "        df = pd.DataFrame(list(self.table.find()))\n",
    "        return df.drop('_id', axis=1) if df.shape[0]!=0 else None\n",
    "    \n",
    "    def query(self, conditions):\n",
    "        df = pd.DataFrame(list(self.table.find(eval(conditions))))\n",
    "        return df.drop('_id', axis=1) if df.shape[0]!=0 else None\n",
    "    \n",
    "    def update(self, conditions, updata):\n",
    "        self.table.update_many(eval(conditions),{\"$set\":eval(updata)})\n",
    "    \n",
    "    def delete(self, conditions):\n",
    "        self.table.delete_many(eval(conditions))\n",
    "        "
   ]
  },
  {
   "cell_type": "markdown",
   "metadata": {},
   "source": [
    "## pymssql"
   ]
  }
 ],
 "metadata": {
  "kernelspec": {
   "display_name": "Python [conda root]",
   "language": "python",
   "name": "conda-root-py"
  },
  "language_info": {
   "codemirror_mode": {
    "name": "ipython",
    "version": 3
   },
   "file_extension": ".py",
   "mimetype": "text/x-python",
   "name": "python",
   "nbconvert_exporter": "python",
   "pygments_lexer": "ipython3",
   "version": "3.6.2"
  },
  "toc": {
   "nav_menu": {},
   "number_sections": true,
   "sideBar": true,
   "skip_h1_title": false,
   "toc_cell": false,
   "toc_position": {},
   "toc_section_display": "block",
   "toc_window_display": false
  },
  "varInspector": {
   "cols": {
    "lenName": 16,
    "lenType": 16,
    "lenVar": 40
   },
   "kernels_config": {
    "python": {
     "delete_cmd_postfix": "",
     "delete_cmd_prefix": "del ",
     "library": "var_list.py",
     "varRefreshCmd": "print(var_dic_list())"
    },
    "r": {
     "delete_cmd_postfix": ") ",
     "delete_cmd_prefix": "rm(",
     "library": "var_list.r",
     "varRefreshCmd": "cat(var_dic_list()) "
    }
   },
   "types_to_exclude": [
    "module",
    "function",
    "builtin_function_or_method",
    "instance",
    "_Feature"
   ],
   "window_display": false
  }
 },
 "nbformat": 4,
 "nbformat_minor": 1
}
