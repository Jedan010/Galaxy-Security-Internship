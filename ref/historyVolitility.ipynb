{
 "cells": [
  {
   "cell_type": "code",
   "execution_count": 3,
   "metadata": {},
   "outputs": [
    {
     "name": "stdout",
     "output_type": "stream",
     "text": [
      "Welcome to use Wind Quant API for Python (WindPy)!\n",
      "\n",
      "COPYRIGHT (C) 2017 WIND INFORMATION CO., LTD. ALL RIGHTS RESERVED.\n",
      "IN NO CIRCUMSTANCE SHALL WIND BE RESPONSIBLE FOR ANY DAMAGES OR LOSSES CAUSED BY USING WIND QUANT API FOR Python.\n"
     ]
    },
    {
     "data": {
      "text/plain": [
       ".ErrorCode=0\n",
       ".Data=[OK!]"
      ]
     },
     "execution_count": 3,
     "metadata": {},
     "output_type": "execute_result"
    }
   ],
   "source": [
    "# -*- coding: utf-8 -*-\n",
    "\"\"\"\n",
    "Created on Tue Jan 09 14:32:26 2018\n",
    "@author: 20914\n",
    "\"\"\"\n",
    "\n",
    "from WindPy import w\n",
    "import numpy as np\n",
    "import pandas as pd\n",
    "import matplotlib.pyplot as plt\n",
    "from matplotlib import rc\n",
    "rc('mathtext', default='regular')\n",
    "import math\n",
    "from scipy.stats import mstats\n",
    "from datetime import datetime\n",
    "from pandas import DataFrame\n",
    "w.start()"
   ]
  },
  {
   "cell_type": "code",
   "execution_count": 100,
   "metadata": {
    "collapsed": true
   },
   "outputs": [],
   "source": [
    "def get_data(code_dir, start, end):\n",
    "    pre_start=w.tdaysoffset(-2, start, \"Period=Y\").Data[0][0]\n",
    "    data = w.wsd(code_dir, \"pre_close,high,low,close,lastradeday_s\", pre_start, end)\n",
    "    df = pd.DataFrame(data.Data, index=data.Fields).T\n",
    "    df['DailyReturn'] = df['CLOSE'] / df['PRE_CLOSE']    \n",
    "    df['LASTRADEDAY_S'] = pd.to_datetime(df['LASTRADEDAY_S'])\n",
    "    df.set_index('LASTRADEDAY_S', inplace=True)\n",
    "    \n",
    "    return df"
   ]
  },
  {
   "cell_type": "code",
   "execution_count": 109,
   "metadata": {
    "collapsed": true
   },
   "outputs": [],
   "source": [
    "def calculate_vol(data, start, end, method):\n",
    "\n",
    "    periods = {'1Week': 5, '2Week': 10, '1Month': 21, '2Month': 41, '3Month': 62, '4Month': 83, \n",
    "               '5Month': 104, '6Month': 124, '9Month': 186, '1Year': 249, '2Year': 497}#要计算的历史波动率的窗口大小\n",
    "    ## ewma\n",
    "    if method == 'EWMA':\n",
    "        data['LOG_2'] = data['DailyReturn'].apply(lambda x: (np.log(x))**2)\n",
    "        for key, value in periods.items():\n",
    "            data[key] = data['LOG_2'].ewm(span= value ).mean()** 0.2 * 252**0.5\n",
    "\n",
    "    ## cla\n",
    "    elif method == 'CLA': \n",
    "        data['LOG'] = data['DailyReturn'].apply(lambda x: np.log(x))\n",
    "        for key, value in periods.items():\n",
    "            data[key] = data['LOG'].rolling(window=value).std() * 252**0.5\n",
    "\n",
    "    ## Parkinson\n",
    "    elif method == 'PARKINSON': \n",
    "        data['High_to_low'] = data['HIGH'] / data['LOW'] ** 2 / (4 * np.log(2))\n",
    "        for key, value in periods.items():\n",
    "            data[key] = data['High_to_low'].rolling(window=value).mean() * 252**0.5\n",
    "\n",
    "    return data.loc[start:end]"
   ]
  },
  {
   "cell_type": "code",
   "execution_count": null,
   "metadata": {
    "collapsed": true
   },
   "outputs": [],
   "source": []
  }
 ],
 "metadata": {
  "kernelspec": {
   "display_name": "Python [conda root]",
   "language": "python",
   "name": "conda-root-py"
  },
  "language_info": {
   "codemirror_mode": {
    "name": "ipython",
    "version": 3
   },
   "file_extension": ".py",
   "mimetype": "text/x-python",
   "name": "python",
   "nbconvert_exporter": "python",
   "pygments_lexer": "ipython3",
   "version": "3.6.2"
  },
  "toc": {
   "nav_menu": {},
   "number_sections": true,
   "sideBar": true,
   "skip_h1_title": false,
   "toc_cell": false,
   "toc_position": {},
   "toc_section_display": "block",
   "toc_window_display": false
  },
  "varInspector": {
   "cols": {
    "lenName": 16,
    "lenType": 16,
    "lenVar": 40
   },
   "kernels_config": {
    "python": {
     "delete_cmd_postfix": "",
     "delete_cmd_prefix": "del ",
     "library": "var_list.py",
     "varRefreshCmd": "print(var_dic_list())"
    },
    "r": {
     "delete_cmd_postfix": ") ",
     "delete_cmd_prefix": "rm(",
     "library": "var_list.r",
     "varRefreshCmd": "cat(var_dic_list()) "
    }
   },
   "types_to_exclude": [
    "module",
    "function",
    "builtin_function_or_method",
    "instance",
    "_Feature"
   ],
   "window_display": false
  }
 },
 "nbformat": 4,
 "nbformat_minor": 1
}
