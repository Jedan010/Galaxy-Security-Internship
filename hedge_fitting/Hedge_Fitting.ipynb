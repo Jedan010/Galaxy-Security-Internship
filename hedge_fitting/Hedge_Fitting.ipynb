{
 "cells": [
  {
   "cell_type": "markdown",
   "metadata": {},
   "source": [
    "将新补充的数据，重复的按 PE 低的\n",
    "\n",
    "新增 1 亿\n",
    "\n",
    "40只"
   ]
  },
  {
   "cell_type": "code",
   "execution_count": 1,
   "metadata": {},
   "outputs": [
    {
     "name": "stdout",
     "output_type": "stream",
     "text": [
      "Welcome to use Wind Quant API for Python (WindPy)!\n",
      "\n",
      "COPYRIGHT (C) 2017 WIND INFORMATION CO., LTD. ALL RIGHTS RESERVED.\n",
      "IN NO CIRCUMSTANCE SHALL WIND BE RESPONSIBLE FOR ANY DAMAGES OR LOSSES CAUSED BY USING WIND QUANT API FOR Python.\n"
     ]
    },
    {
     "data": {
      "text/plain": [
       ".ErrorCode=0\n",
       ".Data=[OK!]"
      ]
     },
     "execution_count": 1,
     "metadata": {},
     "output_type": "execute_result"
    }
   ],
   "source": [
    "import pandas as pd\n",
    "import numpy as np\n",
    "\n",
    "from WindPy import w\n",
    "w.start()"
   ]
  },
  {
   "cell_type": "code",
   "execution_count": 2,
   "metadata": {
    "collapsed": true
   },
   "outputs": [],
   "source": [
    "money_add = 1e8\n",
    "num_tobeAdd = 40\n",
    "small_big_value_level = 2e10\n",
    "industrytype = 2"
   ]
  },
  {
   "cell_type": "markdown",
   "metadata": {},
   "source": [
    "## 得到持仓数据"
   ]
  },
  {
   "cell_type": "code",
   "execution_count": 3,
   "metadata": {
    "collapsed": true
   },
   "outputs": [],
   "source": [
    "position = pd.read_excel('position.xlsx')\n",
    "code_list = position['证券代码'].dropna()\n",
    "code_list = code_list[code_list.map(lambda x: (x[-2:]=='SH') | (x[-2:]=='SZ'))].values.tolist()"
   ]
  },
  {
   "cell_type": "code",
   "execution_count": 4,
   "metadata": {},
   "outputs": [],
   "source": [
    "data_w = w.wss(code_list, \"windcode,industry_sw,free_float_shares,close\",\"industryType=\"+str(industrytype)+\";priceAdj=U;cycle=D\")\n",
    "data = pd.DataFrame(data_w.Data, index=data_w.Fields).T\n",
    "\n",
    "data = pd.DataFrame(data_w.Data, index=data_w.Fields).T\n",
    "data.set_index('WINDCODE', inplace=True)\n",
    "data['市值'] = data.FREE_FLOAT_SHARES * data.CLOSE\n",
    "\n",
    "position_2 = position.copy()\n",
    "position_2.set_index('证券代码', inplace=True)\n",
    "position_2 = position_2.loc[data.index, ['持仓数量', '持仓市值(元)', '最新权重']]\n",
    "\n",
    "data[position_2.columns] = position_2\n",
    "data['大小盘'] = 'big'\n",
    "data.loc[data['市值'] < small_big_value_level, '大小盘'] = 'small'\n",
    "data['最新权重'] = data['最新权重'].astype('float32')\n",
    "\n",
    "#data.head()"
   ]
  },
  {
   "cell_type": "code",
   "execution_count": 5,
   "metadata": {
    "collapsed": true
   },
   "outputs": [],
   "source": [
    "position_weight_sum_origin = data['最新权重'].sum()\n",
    "position_value_sum_origin = data['持仓市值(元)'].sum()\n",
    "position_value_sum_update = position_value_sum_origin + money_add"
   ]
  },
  {
   "cell_type": "code",
   "execution_count": 6,
   "metadata": {
    "collapsed": true
   },
   "outputs": [],
   "source": [
    "data['i_weight'] = data['最新权重'] / position_weight_sum_origin * (1 - money_add / position_value_sum_update) * 100 "
   ]
  },
  {
   "cell_type": "code",
   "execution_count": 7,
   "metadata": {
    "collapsed": true
   },
   "outputs": [],
   "source": [
    "weight_position = data.groupby(['INDUSTRY_SW', '大小盘'])[['i_weight']].sum()\n",
    "#weight_position"
   ]
  },
  {
   "cell_type": "markdown",
   "metadata": {},
   "source": [
    "## 得到中证500指数数据"
   ]
  },
  {
   "cell_type": "code",
   "execution_count": 8,
   "metadata": {
    "collapsed": true
   },
   "outputs": [],
   "source": [
    "zhongzheng_500_w = w.wset(\"indexconstituent\",\"windcode=000905.SH;field=wind_code,sec_name,i_weight\")\n",
    "zhongzheng_500 = pd.DataFrame(zhongzheng_500_w.Data, index=zhongzheng_500_w.Fields).T\n",
    "zhongzheng_500.rename(columns={'wind_code': 'WINDCODE'}, inplace=True)"
   ]
  },
  {
   "cell_type": "code",
   "execution_count": 9,
   "metadata": {
    "collapsed": true
   },
   "outputs": [],
   "source": [
    "zhongzheng_500_w2 = w.wss(zhongzheng_500.WINDCODE.values.tolist(), \"windcode,industry_sw,free_float_shares,close\",\"industryType=\"+str(industrytype)+\";priceAdj=U;cycle=D\")"
   ]
  },
  {
   "cell_type": "code",
   "execution_count": 10,
   "metadata": {
    "collapsed": true
   },
   "outputs": [],
   "source": [
    "zhongzheng_500_2 = pd.DataFrame(zhongzheng_500_w2.Data, index=zhongzheng_500_w2.Fields).T\n",
    "zhongzheng_500_2['市值'] = zhongzheng_500_2.FREE_FLOAT_SHARES * zhongzheng_500_2.CLOSE"
   ]
  },
  {
   "cell_type": "code",
   "execution_count": 11,
   "metadata": {
    "collapsed": true
   },
   "outputs": [],
   "source": [
    "zhongzheng_500_2 = zhongzheng_500_2.merge(zhongzheng_500, on='WINDCODE')\n",
    "zhongzheng_500_2.i_weight = zhongzheng_500_2.i_weight.astype('float32')\n",
    "# zhongzheng_500_2.head()"
   ]
  },
  {
   "cell_type": "code",
   "execution_count": 12,
   "metadata": {
    "collapsed": true
   },
   "outputs": [],
   "source": [
    "zhongzheng_500_2['大小盘'] = 'big'\n",
    "zhongzheng_500_2.loc[zhongzheng_500_2['市值'] < small_big_value_level, '大小盘'] = 'small'"
   ]
  },
  {
   "cell_type": "code",
   "execution_count": 13,
   "metadata": {
    "collapsed": true
   },
   "outputs": [],
   "source": [
    "weight_500 = zhongzheng_500_2.groupby(['INDUSTRY_SW', '大小盘']).sum()"
   ]
  },
  {
   "cell_type": "markdown",
   "metadata": {},
   "source": [
    "## 补齐缺口"
   ]
  },
  {
   "cell_type": "code",
   "execution_count": 14,
   "metadata": {
    "collapsed": true
   },
   "outputs": [],
   "source": [
    "weight_gap = weight_500.subtract(weight_position, fill_value=0)\n",
    "\n",
    "weight_gap = weight_gap[weight_gap > 0]"
   ]
  },
  {
   "cell_type": "code",
   "execution_count": 15,
   "metadata": {
    "collapsed": true
   },
   "outputs": [],
   "source": [
    "tobeAdd = pd.read_excel('position_tobeAdded.xlsx')\n",
    "tobeAdd_code_list = tobeAdd['代码'].values.tolist()\n",
    "\n",
    "data_tobeAdd_w = w.wss(tobeAdd_code_list, \"windcode,industry_sw,free_float_shares,close,pe\",\"industryType=\"+str(industrytype)+\";priceAdj=U;cycle=D;ruleType=10\")"
   ]
  },
  {
   "cell_type": "code",
   "execution_count": 16,
   "metadata": {
    "collapsed": true
   },
   "outputs": [],
   "source": [
    "data_tobeAdd = pd.DataFrame(data_tobeAdd_w.Data, index=data_tobeAdd_w.Fields).T\n",
    "data_tobeAdd['市值'] = data_tobeAdd.FREE_FLOAT_SHARES * data_tobeAdd.CLOSE\n",
    "data_tobeAdd['大小盘'] = 'big'\n",
    "data_tobeAdd.loc[data_tobeAdd['市值'] < small_big_value_level, '大小盘'] = 'small'\n",
    "data_tobeAdd.PE = data_tobeAdd.PE.astype('float32')\n",
    "data_tobeAdd = data_tobeAdd.loc[data_tobeAdd.PE > 0]\n",
    "# data_tobeAdd.head()"
   ]
  },
  {
   "cell_type": "code",
   "execution_count": 17,
   "metadata": {
    "collapsed": true
   },
   "outputs": [],
   "source": [
    "weight_tobeAdd = data_tobeAdd.pivot_table(values=['PE', 'WINDCODE'], index=['INDUSTRY_SW', '大小盘'], aggfunc='min')\n",
    "\n",
    "weight_tobeAdd = pd.concat([weight_tobeAdd, weight_gap], axis=1).dropna()\n",
    "\n",
    "scale_weight = money_add / position_value_sum_origin / weight_tobeAdd['i_weight'].sum() * 100\n",
    "weight_tobeAdd['i_weight_scaled'] = weight_tobeAdd['i_weight'] * scale_weight\n",
    "\n",
    "weight_tobeAdd['money_toadd'] = weight_tobeAdd['i_weight_scaled'] * position_value_sum_update / 100\n",
    "#weight_tobeAdd"
   ]
  },
  {
   "cell_type": "code",
   "execution_count": 18,
   "metadata": {},
   "outputs": [],
   "source": [
    "Code_MoreThanOne_ToBeSelect = set(data_tobeAdd.WINDCODE) - set(weight_tobeAdd.WINDCODE)\n",
    "\n",
    "Code_tobeAdd = data_tobeAdd.loc[data_tobeAdd.set_index(['INDUSTRY_SW', '大小盘']).index.isin(weight_tobeAdd.index) & (data_tobeAdd.WINDCODE.isin(Code_MoreThanOne_ToBeSelect))].sort_values('PE')[ : num_tobeAdd - weight_tobeAdd.shape[0]].WINDCODE\n",
    "\n",
    "Code_tobeAdd = Code_tobeAdd.append(weight_tobeAdd.WINDCODE).values"
   ]
  },
  {
   "cell_type": "code",
   "execution_count": 19,
   "metadata": {},
   "outputs": [
    {
     "name": "stderr",
     "output_type": "stream",
     "text": [
      "C:\\Users\\J\\AppData\\Local\\Continuum\\Anaconda3\\lib\\site-packages\\ipykernel\\__main__.py:1: FutureWarning: \n",
      "Passing list-likes to .loc or [] with any missing label will raise\n",
      "KeyError in the future, you can use .reindex() as an alternative.\n",
      "\n",
      "See the documentation here:\n",
      "http://pandas.pydata.org/pandas-docs/stable/indexing.html#deprecate-loc-reindex-listlike\n",
      "  if __name__ == '__main__':\n",
      "C:\\Users\\J\\AppData\\Local\\Continuum\\Anaconda3\\lib\\site-packages\\pandas\\core\\indexing.py:1367: FutureWarning: \n",
      "Passing list-likes to .loc or [] with any missing label will raise\n",
      "KeyError in the future, you can use .reindex() as an alternative.\n",
      "\n",
      "See the documentation here:\n",
      "http://pandas.pydata.org/pandas-docs/stable/indexing.html#deprecate-loc-reindex-listlike\n",
      "  return self._getitem_tuple(key)\n",
      "C:\\Users\\J\\AppData\\Local\\Continuum\\Anaconda3\\lib\\site-packages\\ipykernel\\__main__.py:6: PerformanceWarning: indexing past lexsort depth may impact performance.\n",
      "C:\\Users\\J\\AppData\\Local\\Continuum\\Anaconda3\\lib\\site-packages\\ipykernel\\kernelbase.py:399: PerformanceWarning: indexing past lexsort depth may impact performance.\n",
      "  user_expressions, allow_stdin)\n",
      "C:\\Users\\J\\AppData\\Local\\Continuum\\Anaconda3\\lib\\site-packages\\ipykernel\\zmqshell.py:533: PerformanceWarning: indexing past lexsort depth may impact performance.\n",
      "  return super(ZMQInteractiveShell, self).run_cell(*args, **kwargs)\n"
     ]
    }
   ],
   "source": [
    "Money_tobeAdd = data_tobeAdd.loc[data_tobeAdd.WINDCODE.isin(Code_tobeAdd), ['INDUSTRY_SW', '大小盘', 'WINDCODE', 'money_toadd']]\n",
    "\n",
    "Money_tobeAdd.set_index(['INDUSTRY_SW', '大小盘'], inplace=True)\n",
    "\n",
    "for i in range(weight_tobeAdd.shape[0]):\n",
    "    Money_tobeAdd.loc[weight_tobeAdd.index[i], 'money_toadd'] = weight_tobeAdd.iloc[i].money_toadd / Money_tobeAdd.loc[weight_tobeAdd.index[i]].shape[0]"
   ]
  },
  {
   "cell_type": "code",
   "execution_count": 23,
   "metadata": {},
   "outputs": [],
   "source": [
    "## 保存\n",
    "# Money_tobeAdd.to_excel('Money_tobeAdd_oneClassIndustry.xlsx')\n",
    "# Money_tobeAdd.to_excel('Money_tobeAdd_twoClassIndustry.xlsx')"
   ]
  },
  {
   "cell_type": "markdown",
   "metadata": {},
   "source": [
    "## 计算差额"
   ]
  },
  {
   "cell_type": "code",
   "execution_count": 44,
   "metadata": {},
   "outputs": [],
   "source": [
    "weight_gap_compare = weight_500.subtract(weight_position, fill_value=0)"
   ]
  },
  {
   "cell_type": "code",
   "execution_count": 47,
   "metadata": {},
   "outputs": [],
   "source": [
    "weight_gap_compare['i_weight_post'] = weight_gap_compare['i_weight']\n",
    "weight_gap_compare.loc[weight_tobeAdd.index, 'i_weight_post'] = weight_gap_compare.loc[weight_tobeAdd.index].i_weight - weight_tobeAdd.i_weight_scaled\n"
   ]
  },
  {
   "cell_type": "code",
   "execution_count": 48,
   "metadata": {
    "collapsed": true
   },
   "outputs": [],
   "source": [
    "# weight_gap_compare.to_excel('Weight_Compare_to_ZH500.xlsx')"
   ]
  },
  {
   "cell_type": "code",
   "execution_count": null,
   "metadata": {
    "collapsed": true
   },
   "outputs": [],
   "source": []
  }
 ],
 "metadata": {
  "kernelspec": {
   "display_name": "Python [conda root]",
   "language": "python",
   "name": "conda-root-py"
  },
  "language_info": {
   "codemirror_mode": {
    "name": "ipython",
    "version": 3
   },
   "file_extension": ".py",
   "mimetype": "text/x-python",
   "name": "python",
   "nbconvert_exporter": "python",
   "pygments_lexer": "ipython3",
   "version": "3.6.2"
  },
  "toc": {
   "nav_menu": {},
   "number_sections": true,
   "sideBar": true,
   "skip_h1_title": false,
   "toc_cell": false,
   "toc_position": {},
   "toc_section_display": "block",
   "toc_window_display": false
  },
  "varInspector": {
   "cols": {
    "lenName": 16,
    "lenType": 16,
    "lenVar": 40
   },
   "kernels_config": {
    "python": {
     "delete_cmd_postfix": "",
     "delete_cmd_prefix": "del ",
     "library": "var_list.py",
     "varRefreshCmd": "print(var_dic_list())"
    },
    "r": {
     "delete_cmd_postfix": ") ",
     "delete_cmd_prefix": "rm(",
     "library": "var_list.r",
     "varRefreshCmd": "cat(var_dic_list()) "
    }
   },
   "types_to_exclude": [
    "module",
    "function",
    "builtin_function_or_method",
    "instance",
    "_Feature"
   ],
   "window_display": false
  }
 },
 "nbformat": 4,
 "nbformat_minor": 2
}
