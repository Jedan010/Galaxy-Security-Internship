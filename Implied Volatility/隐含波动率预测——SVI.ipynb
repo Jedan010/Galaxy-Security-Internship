{
 "cells": [
  {
   "cell_type": "markdown",
   "metadata": {},
   "source": [
    " 1. 这个需要你先用历史波动率c2c模型分别计算出不同到期日的atm的波动率，\n",
    " 2. 之后再根据wing模型，具体参数你可以做一个参数组，分为微笑（曲率：小中大），右偏（曲率：小中大）：小中大，左偏（曲率：小中大），计算出一个波动率曲面，之后把上面那两个表自动生成出来。\n",
    "\n",
    "- 另外，行权价距离atm值15%的位置的波动率是atm波动率的30%，6%的位置波动率是atm波动率的16%，这样就能生成5个点，你用这5点拟合一下图形，把剩下的生成出来就行了"
   ]
  },
  {
   "cell_type": "code",
   "execution_count": 1,
   "metadata": {},
   "outputs": [
    {
     "name": "stdout",
     "output_type": "stream",
     "text": [
      "Welcome to use Wind Quant API for Python (WindPy)!\n",
      "\n",
      "COPYRIGHT (C) 2017 WIND INFORMATION CO., LTD. ALL RIGHTS RESERVED.\n",
      "IN NO CIRCUMSTANCE SHALL WIND BE RESPONSIBLE FOR ANY DAMAGES OR LOSSES CAUSED BY USING WIND QUANT API FOR Python.\n"
     ]
    },
    {
     "data": {
      "text/plain": [
       ".ErrorCode=0\n",
       ".Data=[OK!]"
      ]
     },
     "execution_count": 1,
     "metadata": {},
     "output_type": "execute_result"
    }
   ],
   "source": [
    "import os\n",
    "import numpy as np\n",
    "import pandas as pd\n",
    "import matplotlib.pyplot as plt\n",
    "from scipy.optimize import least_squares\n",
    "%matplotlib inline\n",
    "\n",
    "from WindPy import w\n",
    "w.start()"
   ]
  },
  {
   "cell_type": "code",
   "execution_count": 2,
   "metadata": {
    "collapsed": true
   },
   "outputs": [],
   "source": [
    "def phi(A):\n",
    "    \"\"\"\n",
    "    平滑函数： \n",
    "    $$ \\varphi(\\theta) = \\frac{\\eta}{\\theta^\\gamma(1+\\theta)^{1-\\gamma}} $$\n",
    "    \"\"\"\n",
    "    return A[2] / (A[0]**A[3]*(1+A[0])**(1-A[3]))\n",
    "\n",
    "def model(A, x):\n",
    "    \"\"\"\n",
    "    SSVI 函数\n",
    "    $$ w(k, \\theta_t) = \\frac{\\theta_t}{2} \\left \\{ 1 + \\rho \\varphi(\\theta_t)k + \\sqrt{(\\varphi(\\theta_t)k+\\rho)^2 + (1-\\rho^2)} \\right \\} $$\n",
    "    \"\"\"\n",
    "    return A[0]/2 * (1 + A[1]*phi(A)*x + ((phi(A)*x + A[1])**2 + 1 - A[1]**2)**0.5)\n",
    "\n",
    "def fun_penalty(A, x, y,paramater_pre):\n",
    "    \"\"\"\n",
    "    优化目标函数\n",
    "    \"\"\"\n",
    "    least_squar = (model(A, x) - y)**2  ## 最小二乘\n",
    "    penalty_eta =  1*(A[2] * (1+np.abs(A[1])) - 2)**2  ## 无蝶式套利约束条件\n",
    "    c = model(A, x) - model(paramater_pre, x)   ## 无 time spread 套利\n",
    "    penalty_maturity = np.sum(c[c<0]) **2\n",
    "    return  least_squar + penalty_maturity  #+ penalty_eta\n",
    "\n",
    "def fit_svi(strike, variance):\n",
    "    \"\"\"\n",
    "    拟合SVI，得到对应系数\n",
    "    \n",
    "    参数：\n",
    "    strike: 1d array $ln(k/s)$ 对数行权价\n",
    "    variance : 2d array 总体方差， $\\sigma^2*t$\n",
    "    \"\"\"\n",
    "    paramater = np.random.rand(variance.shape[0],4)\n",
    "    paramater_pre = np.ones(4) / 10\n",
    "    for i in range(4):\n",
    "        res = least_squares(fun_penalty, paramater_pre, args=(strike, variance[i], paramater_pre), \n",
    "                            bounds=((-np.inf, -np.inf, -np.inf, 0),(np.inf, np.inf, np.inf, 0.5)))\n",
    "        paramater[i] = res.x\n",
    "        paramater_pre = res.x\n",
    "    return paramater"
   ]
  },
  {
   "cell_type": "code",
   "execution_count": 3,
   "metadata": {
    "collapsed": true
   },
   "outputs": [],
   "source": [
    "def get_stock_data(code_dir,period, start):\n",
    "    pre_start=w.tdaysoffset(-np.max(period), start, \"Period=D\").Data[0][0]\n",
    "    data = w.wsd(code_dir, \"pre_close,high,low,close,lastradeday_s\", pre_start, start)\n",
    "    df = pd.DataFrame(data.Data, index=data.Fields).T\n",
    "    df['DailyReturn'] = df['CLOSE'] / df['PRE_CLOSE']    \n",
    "    df['LASTRADEDAY_S'] = pd.to_datetime(df['LASTRADEDAY_S'])\n",
    "    df.set_index('LASTRADEDAY_S', inplace=True)\n",
    "    return df   "
   ]
  },
  {
   "cell_type": "code",
   "execution_count": 4,
   "metadata": {
    "collapsed": true
   },
   "outputs": [],
   "source": [
    "def calculate_vol(data, start,period, method='CLC'):\n",
    "    ## ewma\n",
    "    if method == 'EWMA':\n",
    "        his_vol = [((np.log(data['DailyReturn'].astype('float32'))**2).ewm(span=day).mean())[-1]**0.5*252**0.5 for day in period ]\n",
    "    \n",
    "    ## clc\n",
    "    elif method == 'CLC': \n",
    "        his_vol = np.array([(np.log(data['DailyReturn'].astype('float32')).rolling(window=day).std())[-1]*252**0.5  for day in period])\n",
    "    \n",
    "    ## Parkinson\n",
    "    elif method == 'PARKINSON': \n",
    "        his_vol = [(data['HIGH']/data['LOW']**2/(4*np.log(2))).rolling(window=day).mean()[-1]*252**0.5 for day in period]\n",
    "\n",
    "    return his_vol"
   ]
  },
  {
   "cell_type": "code",
   "execution_count": 5,
   "metadata": {
    "collapsed": true
   },
   "outputs": [],
   "source": [
    "def output_iv(file_dir, start=None,  method='CLC'):\n",
    "    start = start if start else str(pd.datetime.today().date())\n",
    "    code_dir_info = os.path.basename(file_dir).split('.')\n",
    "    if len(code_dir_info) == 3:    \n",
    "        code_dir = '.'.join(code_dir_info[:-1]) \n",
    "    elif code_dir_info[0][0] in ['0', '1', '2', '3']:\n",
    "        code_dir = code_dir_info[0] + '.SZ'\n",
    "    else:\n",
    "        code_dir = code_dir_info[0] + '.SH'\n",
    "    ## basic info\n",
    "    basic_data = pd.read_excel(file_dir)\n",
    "    columns = basic_data.columns\n",
    "    period = (pd.to_datetime(basic_data.loc[basic_data['C/P']=='C'].index.astype('str')) - pd.datetime.today()).days.values  ## maturity\n",
    "    predict_k = basic_data.columns[2:].astype('float16').values  ## strike\n",
    "\n",
    "    ## 得到历史波动率\n",
    "    df = get_stock_data(code_dir, period, start)\n",
    "    ATM = df['CLOSE'][-1]\n",
    "    his_vol = calculate_vol(df, start, period, method)\n",
    "\n",
    "    ## 构造波动率数据，这里可以修改参数\n",
    "    Vol_data = pd.DataFrame([his_vol*(1+0.3), his_vol*(1+0.16), his_vol, his_vol*(1+0.16), his_vol*(1+0.3)],\n",
    "                 index=[ATM*(1-0.15), ATM*(1-0.06), ATM, ATM*(1+0.06), ATM*(1+0.15) ], columns=period).T\n",
    "\n",
    "    ## 拟合波动率 得到系数\n",
    "    strike = np.log(Vol_data.columns.values / ATM)\n",
    "    marturity = Vol_data.index.values.reshape((-1,1))\n",
    "    implied_volatility = Vol_data.values\n",
    "    variance = implied_volatility**2 * marturity\n",
    "\n",
    "    paramater = fit_svi(strike, variance)\n",
    "\n",
    "    ## 得到结果\n",
    "    result_data = basic_data.copy()\n",
    "    result = [(model(paramater[i], np.log(predict_k/ATM)) / marturity[i])**0.5 *100  for i in range(paramater.shape[0])]\n",
    "    result_data.iloc[::2, 2:] = result\n",
    "    result_data.iloc[1::2,2:] = result\n",
    "\n",
    "    ## output \n",
    "    result_data.to_excel(os.path.join('./output',os.path.basename(file_dir)))\n",
    "    \n",
    "    return result_data"
   ]
  },
  {
   "cell_type": "code",
   "execution_count": 6,
   "metadata": {
    "collapsed": true
   },
   "outputs": [],
   "source": [
    "def transfer_folder(folder, start=None, method='CLC'):\n",
    "    for file_dir in os.listdir(folder):\n",
    "        try:\n",
    "            output = output_iv(os.path.join(folder,file_dir))\n",
    "        except:\n",
    "            print('Error:', file_dir)"
   ]
  },
  {
   "cell_type": "code",
   "execution_count": 7,
   "metadata": {
    "scrolled": true
   },
   "outputs": [],
   "source": [
    "transfer_folder('./data')"
   ]
  },
  {
   "cell_type": "code",
   "execution_count": null,
   "metadata": {
    "collapsed": true
   },
   "outputs": [],
   "source": []
  }
 ],
 "metadata": {
  "kernelspec": {
   "display_name": "Python 3",
   "language": "python",
   "name": "python3"
  },
  "language_info": {
   "codemirror_mode": {
    "name": "ipython",
    "version": 3
   },
   "file_extension": ".py",
   "mimetype": "text/x-python",
   "name": "python",
   "nbconvert_exporter": "python",
   "pygments_lexer": "ipython3",
   "version": "3.6.3"
  },
  "toc": {
   "nav_menu": {},
   "number_sections": true,
   "sideBar": true,
   "skip_h1_title": false,
   "toc_cell": false,
   "toc_position": {},
   "toc_section_display": "block",
   "toc_window_display": false
  },
  "varInspector": {
   "cols": {
    "lenName": 16,
    "lenType": 16,
    "lenVar": 40
   },
   "kernels_config": {
    "python": {
     "delete_cmd_postfix": "",
     "delete_cmd_prefix": "del ",
     "library": "var_list.py",
     "varRefreshCmd": "print(var_dic_list())"
    },
    "r": {
     "delete_cmd_postfix": ") ",
     "delete_cmd_prefix": "rm(",
     "library": "var_list.r",
     "varRefreshCmd": "cat(var_dic_list()) "
    }
   },
   "types_to_exclude": [
    "module",
    "function",
    "builtin_function_or_method",
    "instance",
    "_Feature"
   ],
   "window_display": false
  }
 },
 "nbformat": 4,
 "nbformat_minor": 2
}
