{
 "cells": [
  {
   "cell_type": "markdown",
   "metadata": {},
   "source": [
    " 1. 这个需要你先用历史波动率c2c模型分别计算出不同到期日的atm的波动率，\n",
    " 2. 之后再根据wing模型，具体参数你可以做一个参数组，分为微笑（曲率：小中大），右偏（曲率：小中大）：小中大，左偏（曲率：小中大），计算出一个波动率曲面，之后把上面那两个表自动生成出来。\n",
    "\n",
    "- 另外，行权价距离atm值15%的位置的波动率是atm波动率的30%，6%的位置波动率是atm波动率的16%，这样就能生成5个点，你用这5点拟合一下图形，把剩下的生成出来就行了"
   ]
  },
  {
   "cell_type": "code",
   "execution_count": 1,
   "metadata": {},
   "outputs": [
    {
     "name": "stdout",
     "output_type": "stream",
     "text": [
      "Welcome to use Wind Quant API for Python (WindPy)!\n",
      "\n",
      "COPYRIGHT (C) 2017 WIND INFORMATION CO., LTD. ALL RIGHTS RESERVED.\n",
      "IN NO CIRCUMSTANCE SHALL WIND BE RESPONSIBLE FOR ANY DAMAGES OR LOSSES CAUSED BY USING WIND QUANT API FOR Python.\n"
     ]
    },
    {
     "data": {
      "text/plain": [
       ".ErrorCode=0\n",
       ".Data=[OK!]"
      ]
     },
     "execution_count": 1,
     "metadata": {},
     "output_type": "execute_result"
    }
   ],
   "source": [
    "import numpy as np\n",
    "import pandas as pd\n",
    "import matplotlib.pyplot as plt\n",
    "\n",
    "from WindPy import w\n",
    "w.start()"
   ]
  },
  {
   "cell_type": "code",
   "execution_count": 2,
   "metadata": {
    "collapsed": true
   },
   "outputs": [],
   "source": [
    "def get_stock_data(code_dir,period, start):\n",
    "    pre_start=w.tdaysoffset(-np.max(period), start, \"Period=D\").Data[0][0]\n",
    "    data = w.wsd(code_dir, \"pre_close,high,low,close,lastradeday_s\", pre_start, start)\n",
    "    df = pd.DataFrame(data.Data, index=data.Fields).T\n",
    "    df['DailyReturn'] = df['CLOSE'] / df['PRE_CLOSE']    \n",
    "    df['LASTRADEDAY_S'] = pd.to_datetime(df['LASTRADEDAY_S'])\n",
    "    df.set_index('LASTRADEDAY_S', inplace=True)\n",
    "    return df   "
   ]
  },
  {
   "cell_type": "code",
   "execution_count": 3,
   "metadata": {
    "collapsed": true
   },
   "outputs": [],
   "source": [
    "def calculate_vol(data, start,period, method='CLC'):\n",
    "    ## ewma\n",
    "    if method == 'EWMA':\n",
    "        his_vol = [((np.log(data['DailyReturn'].astype('float32'))**2).ewm(span=day).mean())[-1]**0.5*252**0.5 for day in period ]\n",
    "    \n",
    "    ## clc\n",
    "    elif method == 'CLC': \n",
    "        his_vol = np.array([(np.log(data['DailyReturn'].astype('float32')).rolling(window=day).std())[-1]*252**0.5  for day in period])\n",
    "    \n",
    "    ## Parkinson\n",
    "    elif method == 'PARKINSON': \n",
    "        his_vol = [(data['HIGH']/data['LOW']**2/(4*np.log(2))).rolling(window=day).mean()[-1]*252**0.5 for day in period]\n",
    "\n",
    "    return his_vol"
   ]
  },
  {
   "cell_type": "code",
   "execution_count": 15,
   "metadata": {
    "collapsed": true
   },
   "outputs": [],
   "source": [
    "def fit_function(X, A, boundry=10):\n",
    "    I1 = (X>=0) & (X<=boundry)\n",
    "    I2 = (X<=0) & (X>=-boundry)\n",
    "    y = A[:, 0:1] + A[:,1:2]*X + A[:, 2:3]*X**2*I1 + A[:,3:4]*X**2*I2\n",
    "    return y"
   ]
  },
  {
   "cell_type": "code",
   "execution_count": 29,
   "metadata": {
    "collapsed": true
   },
   "outputs": [],
   "source": [
    "def gradient_descend_constrain(x, y, I1, I2, alpha=0.01, n=10000, theta=1):\n",
    "    \n",
    "    m = x.shape[1]\n",
    "    A = np.random.randn(x.shape[0],4)\n",
    "    costs = []\n",
    "    for i in range(n):\n",
    "        hypothesis = fit_function(x, A)\n",
    "        loss = hypothesis - y\n",
    "        cost = np.sum(loss ** 2) / (2 *m)\n",
    "        costs.append(cost)\n",
    "\n",
    "        a3, a4 = A[:, 2], A[:, 3] \n",
    "\n",
    "        a1_grad = np.sum(loss, axis=1) / m\n",
    "        a2_grad = np.sum(x*loss, axis=1) / m\n",
    "        a3_grad = np.sum(x**2*loss*I1, axis=1) / m  + theta*a3*(a3<0)\n",
    "        a4_grad = np.sum(x**2*loss*I2, axis=1) / m  + theta*a4*(a4<0)\n",
    "\n",
    "        A[:, 0] -=  alpha * a1_grad\n",
    "        A[:, 1] -=  alpha * a2_grad\n",
    "        A[:, 2] -=  alpha * a3_grad\n",
    "        A[:, 3] -=  alpha * a4_grad\n",
    "    return A, costs"
   ]
  },
  {
   "cell_type": "code",
   "execution_count": 41,
   "metadata": {
    "collapsed": true
   },
   "outputs": [],
   "source": [
    "def output_iv(file_dir, code_dir, start=None, output_dir=None):\n",
    "    start = start if start else str(pd.datetime.today().date())\n",
    "    ## basic info\n",
    "    basic_data = pd.read_excel(file_dir)\n",
    "    columns = basic_data.columns\n",
    "    index = basic_data.loc[basic_data['C/P']=='C'].index \n",
    "    period = (pd.to_datetime(index.astype('str')) - pd.datetime.today()).days.values\n",
    "    predict_k = columns[2:].astype('float16').values\n",
    "\n",
    "    ## 得到历史波动率\n",
    "    df = get_stock_data(code_dir, period, start)\n",
    "    ATM = df['CLOSE'][-1]\n",
    "    his_vol = calculate_vol(df, start, period)\n",
    "\n",
    "    ## 这里可以修改参数\n",
    "    Vol_data = pd.DataFrame([his_vol*(1+0.3), his_vol*(1+0.16), his_vol, his_vol*(1+0.16), his_vol*(1+0.3)],\n",
    "                 index=[ATM*(1-0.15), ATM*(1-0.06), ATM, ATM*(1+0.06), ATM*(1+0.15) ], columns=index).T\n",
    "\n",
    "    x_ori = np.log(Vol_data.columns.values / ATM)\n",
    "    x_ori = np.repeat(x_ori.reshape((1,-1)), Vol_data.shape[0], axis=0)\n",
    "    y_ori = Vol_data.values\n",
    "\n",
    "    x_std = np.std(x_ori)\n",
    "    y_std = np.std(y_ori)\n",
    "\n",
    "    x = x_ori / x_std\n",
    "    y = y_ori / y_std\n",
    "\n",
    "    boundry = 10\n",
    "    I1 = (x>=0) & (x<=boundry)\n",
    "    I2 = (x<=0) & (x>=-boundry)\n",
    "\n",
    "    ## get_parameter\n",
    "    A, _ = gradient_descend_constrain(x, y, I1, I2)\n",
    "\n",
    "    ## get_result\n",
    "    result_data = basic_data.copy()\n",
    "    result = [y_std*fit_function(np.log(predict_k/ATM)/x_std, A[i:i+1,:]).reshape(-1)*100 for i in range(A.shape[0])]\n",
    "    result_data.iloc[::2, 2:] = result\n",
    "    result_data.iloc[1::2,2:] = result\n",
    "\n",
    "    ## output \n",
    "    output_dir = output_dir if output_dir else code_dir+'.xls'\n",
    "    result_data.to_excel(output_dir)\n",
    "    \n",
    "    return result_data"
   ]
  },
  {
   "cell_type": "code",
   "execution_count": 42,
   "metadata": {
    "collapsed": true
   },
   "outputs": [],
   "source": [
    "file_dir = './../../data/300070.xls'\n",
    "code_dir = '300070.SZ'\n",
    "\n",
    "\n",
    "output = output_iv(file_dir, code_dir)"
   ]
  }
 ],
 "metadata": {
  "kernelspec": {
   "display_name": "Python [conda root]",
   "language": "python",
   "name": "conda-root-py"
  },
  "language_info": {
   "codemirror_mode": {
    "name": "ipython",
    "version": 3
   },
   "file_extension": ".py",
   "mimetype": "text/x-python",
   "name": "python",
   "nbconvert_exporter": "python",
   "pygments_lexer": "ipython3",
   "version": "3.6.2"
  },
  "toc": {
   "nav_menu": {},
   "number_sections": true,
   "sideBar": true,
   "skip_h1_title": false,
   "toc_cell": false,
   "toc_position": {},
   "toc_section_display": "block",
   "toc_window_display": false
  },
  "varInspector": {
   "cols": {
    "lenName": 16,
    "lenType": 16,
    "lenVar": 40
   },
   "kernels_config": {
    "python": {
     "delete_cmd_postfix": "",
     "delete_cmd_prefix": "del ",
     "library": "var_list.py",
     "varRefreshCmd": "print(var_dic_list())"
    },
    "r": {
     "delete_cmd_postfix": ") ",
     "delete_cmd_prefix": "rm(",
     "library": "var_list.r",
     "varRefreshCmd": "cat(var_dic_list()) "
    }
   },
   "types_to_exclude": [
    "module",
    "function",
    "builtin_function_or_method",
    "instance",
    "_Feature"
   ],
   "window_display": false
  }
 },
 "nbformat": 4,
 "nbformat_minor": 2
}
